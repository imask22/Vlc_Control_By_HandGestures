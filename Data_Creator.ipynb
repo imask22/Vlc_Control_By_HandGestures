{
 "cells": [
  {
   "cell_type": "code",
   "execution_count": null,
   "metadata": {},
   "outputs": [],
   "source": [
    "import cv2\n",
    "import os\n",
    "import sys\n",
    "import numpy as np"
   ]
  },
  {
   "cell_type": "code",
   "execution_count": null,
   "metadata": {},
   "outputs": [],
   "source": [
    "def createdata(label_name,num_samples): \n",
    "    IMG_SAVE_PATH = 'G:/gestures'\n",
    "    IMG_CLASS_PATH = os.path.join(IMG_SAVE_PATH, label_name)\n",
    "    try:\n",
    "        os.mkdir(IMG_SAVE_PATH)\n",
    "    except FileExistsError:\n",
    "        pass\n",
    "    try:\n",
    "        os.mkdir(IMG_CLASS_PATH)\n",
    "    except FileExistsError:\n",
    "        print(\"{} directory already exists.\".format(IMG_CLASS_PATH))\n",
    "        print(\"All images gathered will be saved along with existing items in this folder\")\n",
    "    cap = cv2.VideoCapture(0)\n",
    "    start = False\n",
    "    count = 0\n",
    "    while True:\n",
    "        ret, frame = cap.read()\n",
    "        frame=cv2.flip(frame,1)\n",
    "        if not ret:\n",
    "            continue\n",
    "        if count == num_samples:\n",
    "            break\n",
    "        cv2.rectangle(frame, (400,30),(620,350),(0,0,255),2)\n",
    "        if start:\n",
    "            roi = frame[30:350,400:620]\n",
    "            save_path = os.path.join(IMG_CLASS_PATH, '{}.jpg'.format(count + 1))\n",
    "            hsv=cv2.cvtColor(roi,cv2.COLOR_BGR2HSV)\n",
    "            lower_skin = np.array([0, 30, 60 ], dtype=np.uint8)\n",
    "            upper_skin = np.array([20, 150, 255], dtype=np.uint8)\n",
    "            mask = cv2.inRange(hsv, lower_skin, upper_skin)\n",
    "            kernel=np.ones((3,3),dtype=np.uint8)\n",
    "            mask = cv2.dilate(mask,kernel,iterations = 4)\n",
    "            mask = cv2.GaussianBlur(mask,(5,5),100)\n",
    "            cv2.imwrite(save_path, mask)\n",
    "            count += 1\n",
    "        font = cv2.FONT_HERSHEY_SIMPLEX\n",
    "        cv2.putText(frame, \"Collecting {}\".format(count),\n",
    "                (5, 50), font, 0.7, (0, 255, 255), 2, cv2.LINE_AA)\n",
    "        cv2.imshow(\"Collecting images\", frame)\n",
    "        k = cv2.waitKey(10)\n",
    "        if k == ord('a'):\n",
    "            start = not start\n",
    "        if k == ord('q'):\n",
    "            break\n",
    "    print(\"\\n{} image(s) saved to {}\".format(count, IMG_CLASS_PATH))\n",
    "    cap.release()\n",
    "    cv2.destroyAllWindows()"
   ]
  },
  {
   "cell_type": "code",
   "execution_count": null,
   "metadata": {
    "scrolled": true
   },
   "outputs": [],
   "source": [
    "label_name=input()\n",
    "num_samples=int(input())\n",
    "createdata(label_name,num_samples)"
   ]
  },
  {
   "cell_type": "code",
   "execution_count": null,
   "metadata": {},
   "outputs": [],
   "source": [
    "#renaming images\n",
    "import os \n",
    "for i in range(0,6):\n",
    "    src_path=input(\"enter source path:\")+str(i)+\"/\"\n",
    "    dst_path=input(\"enter destination path:\")+str(i)+\"/\"\n",
    "    num=len(os.listdir(dst_path))+1\n",
    "    for count, filename in enumerate(os.listdir(path)): \n",
    "        dst = dst_path+str(count+num) + \".jpg\"\n",
    "        src = src_path+filename    \n",
    "        os.rename(src, dst) "
   ]
  }
 ],
 "metadata": {
  "kernelspec": {
   "display_name": "Python 3",
   "language": "python",
   "name": "python3"
  },
  "language_info": {
   "codemirror_mode": {
    "name": "ipython",
    "version": 3
   },
   "file_extension": ".py",
   "mimetype": "text/x-python",
   "name": "python",
   "nbconvert_exporter": "python",
   "pygments_lexer": "ipython3",
   "version": "3.7.1"
  }
 },
 "nbformat": 4,
 "nbformat_minor": 4
}
